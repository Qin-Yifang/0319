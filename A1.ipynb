{
 "cells": [
  {
   "cell_type": "markdown",
   "id": "d2c07ce6",
   "metadata": {},
   "source": [
    "# Assignment A1 [35 marks]\n",
    "\n",
    "The assignment consists of 3 tasks. Each exercise may contain coding and/or discussion questions.\n",
    "\n",
    "- When you need to **define a function**, do so in the appropriate **module**.\n",
    "    - Functions for Task 1 should be defined in `task1.py`.\n",
    "    - Functions for Task 2 should be defined in `task2.py`.\n",
    "    - Functions for Task 3 should be defined in `task3.py`.\n",
    "- Each module should only contain function definitions, and any required `import` statements (for example if you need to import `numpy`).\n",
    "- For each question, a few simple **tests** will be provided in the notebook. You can use these to start checking that your function works as expected. They work similarly to your Coderunner quizzes.\n",
    "    - In some cases, the tests use `assert` statements.\n",
    "        - `assert X` will do nothing if `X` is `True`.\n",
    "        - `assert X` will produce an `AssertionError` if `X` is `False`.\n",
    "    - The provided tests are minimal (similar to the \"Examples\" provided for pre-checking in the Coderunner quizzes). To make sure that your function works fully with all possible inputs, you should add more of your own tests.\n",
    "    - The tests that you write yourself will not be assessed.\n",
    "    - When you submit on Gradescope, more automatic tests will be performed. You will see the results of **some** of these tests when you submit; if any fail, you can try to correct your code, and resubmit as many times as you want (until the deadline).\n",
    "    - Gradescope will also have hidden tests which will test your functions further (similar to the further tests in the Coderunner quizzes, which are run when you click \"Check\"). You will not see the results of these tests until the grades and feedback are returned to the class. This means, in particular, that *passing all the visible tests on Gradescope does not guarantee full marks.*\n",
    "- For **non-code** questions, use the **Markdown cells** provided below each question, indicated by 📝. Double-click these cells to edit them, and run them to display your Markdown-formatted text. Please refer to the Week 1 tutorial notebook for Markdown syntax.\n",
    "- **Up to half** of the marks for a given question may be deducted for missing, incomplete, or inaccurate code comments, poorly displayed results, or poorly labelled or unclear plots."
   ]
  },
  {
   "cell_type": "code",
   "execution_count": null,
   "id": "4ca61e9b",
   "metadata": {},
   "outputs": [],
   "source": [
    "# Run this cell to import your modules\n",
    "import task1, task2, task3\n",
    "import importlib"
   ]
  },
  {
   "cell_type": "markdown",
   "id": "68b8f63a",
   "metadata": {},
   "source": [
    "---\n",
    "\n",
    "## Task 1: Integer roots [16 marks]\n",
    "\n",
    "The \"squares\" are one of the most important classes of integers: the integers $n\\ge0$ where there is another integer $r \\ge 0$ with $n = r \\cdot r$.\n",
    "\n",
    "An obvious question about any given integer is, \"Is a number a perfect square?\". To answer this question requires taking a generalised kind of \"square root\" of any non-negative integer. \n",
    "\n",
    "There is no unique way to take a square root of a number that is not a perfect square and get an integer. But one common-sense solution is to consider the ***floor square root***, a.k.a the ***integer square root.*** For a given non-negative integer $n$, the floor square root of $n$ is the non-negative integer $r$ such that\n",
    "\n",
    "$$\n",
    "r \\ = \\ \\text{floor_sqrt}(n) \\quad \\text{where} \\quad r^{2} \\ \\le  \\ n  \\ < \\  (r+1)^{2}.\n",
    "$$\n",
    "\n",
    "It's also the same as computing the square root and rounding down the result. It's the counterpart to the common floor divide operator `//` used in Python.\n",
    "\n",
    "If you can take the $\\text{floor_sqrt}(n)$, then finding whether a number is a perfect square is as easy as testing if \n",
    "\n",
    "    floor_sqrt(n)**2 == n "
   ]
  },
  {
   "cell_type": "markdown",
   "id": "6675ee91",
   "metadata": {},
   "source": [
    "---\n",
    "#### 🚩 Task 1a [1 mark]\n",
    "\n",
    "Write a Python function called `check_floor_root()`, which takes 3 input arguments:\n",
    "\n",
    "- `number`, an `int` representing a non-negative integer $n$,\n",
    "- `root`, an `int` representing a non-negative integer $r$,\n",
    "- `power`, an `int` representing a positive integer $p$, with the default value `power=2`.\n",
    "\n",
    "Your function should check whether $r$ is the $p$th floor root of $n$, i.e. whether the following condition is verified:\n",
    "\n",
    "$$\n",
    "r^{p} \\ \\le \\ n \\ < \\ (r + 1)^{p}.\n",
    "$$\n",
    "\n",
    "Your function should return `True` or `False` (as a `bool`) depending on whether or not the condition is met."
   ]
  },
  {
   "cell_type": "code",
   "execution_count": 2,
   "id": "448f6299",
   "metadata": {},
   "outputs": [
    {
     "ename": "NameError",
     "evalue": "name 'importlib' is not defined",
     "output_type": "error",
     "traceback": [
      "\u001b[0;31m---------------------------------------------------------------------------\u001b[0m",
      "\u001b[0;31mNameError\u001b[0m                                 Traceback (most recent call last)",
      "Cell \u001b[0;32mIn[2], line 2\u001b[0m\n\u001b[1;32m      1\u001b[0m \u001b[38;5;66;03m# Testing\u001b[39;00m\n\u001b[0;32m----> 2\u001b[0m \u001b[43mimportlib\u001b[49m\u001b[38;5;241m.\u001b[39mreload(task1);\n\u001b[1;32m      3\u001b[0m \u001b[38;5;28;01massert\u001b[39;00m task1\u001b[38;5;241m.\u001b[39mcheck_floor_root(\u001b[38;5;241m16\u001b[39m, \u001b[38;5;241m4\u001b[39m)\n\u001b[1;32m      4\u001b[0m \u001b[38;5;28;01massert\u001b[39;00m task1\u001b[38;5;241m.\u001b[39mcheck_floor_root(\u001b[38;5;241m17\u001b[39m, \u001b[38;5;241m2\u001b[39m, power\u001b[38;5;241m=\u001b[39m\u001b[38;5;241m4\u001b[39m)\n",
      "\u001b[0;31mNameError\u001b[0m: name 'importlib' is not defined"
     ]
    }
   ],
   "source": [
    "# Testing\n",
    "importlib.reload(task1);\n",
    "assert task1.check_floor_root(16, 4)\n",
    "assert task1.check_floor_root(17, 2, power=4)\n",
    "assert task1.check_floor_root(25, 6) == False\n",
    "print('All tests pass.')"
   ]
  },
  {
   "cell_type": "markdown",
   "id": "67a4d889",
   "metadata": {},
   "source": [
    "---\n",
    "### An unsafe method \n",
    "\n",
    "You might think computing $\\text{floor_sqrt}(n)$ is easy: take the square root and only keep the integer part. This method works well enough for small numbers (typically, fewer than 30 digits); however, it can fail on larger numbers when roundoff errors become significant.\n",
    "\n",
    "Here is a simple, but unreliable, function:\n",
    "\n",
    "```python\n",
    "def unsafe_floor_sqrt(x):\n",
    "    return int((x + 0.5)**(1/2))\n",
    "```\n",
    "\n",
    "The extra `0.5` is to ensure that (e.g.) `25**(1/2)` doesn't come out to (e.g.) `4.9999999999` and then get rounded down to `4`. However, even with this trick, we still won't be able to get good answers for large numbers. \n",
    "\n",
    "For example, you can create a 40-digit perfect square and see if the floating-point square root gives the correct result. "
   ]
  },
  {
   "cell_type": "code",
   "execution_count": 1,
   "id": "9a736dcd",
   "metadata": {},
   "outputs": [
    {
     "ename": "NameError",
     "evalue": "name 'task1' is not defined",
     "output_type": "error",
     "traceback": [
      "\u001b[0;31m---------------------------------------------------------------------------\u001b[0m",
      "\u001b[0;31mNameError\u001b[0m                                 Traceback (most recent call last)",
      "Cell \u001b[0;32mIn[1], line 3\u001b[0m\n\u001b[1;32m      1\u001b[0m r \u001b[38;5;241m=\u001b[39m \u001b[38;5;241m86874147988086870772\u001b[39m\n\u001b[1;32m      2\u001b[0m n \u001b[38;5;241m=\u001b[39m r\u001b[38;5;241m*\u001b[39m\u001b[38;5;241m*\u001b[39m\u001b[38;5;241m2\u001b[39m\n\u001b[0;32m----> 3\u001b[0m u \u001b[38;5;241m=\u001b[39m \u001b[43mtask1\u001b[49m\u001b[38;5;241m.\u001b[39munsafe_floor_sqrt(n)\n\u001b[1;32m      5\u001b[0m \u001b[38;5;28mprint\u001b[39m(\u001b[38;5;124mf\u001b[39m\u001b[38;5;124m'\u001b[39m\u001b[38;5;124mExact root:    \u001b[39m\u001b[38;5;132;01m{\u001b[39;00mr\u001b[38;5;132;01m}\u001b[39;00m\u001b[38;5;124m'\u001b[39m)\n\u001b[1;32m      6\u001b[0m \u001b[38;5;28mprint\u001b[39m(\u001b[38;5;124mf\u001b[39m\u001b[38;5;124m'\u001b[39m\u001b[38;5;124mComputed root: \u001b[39m\u001b[38;5;132;01m{\u001b[39;00mu\u001b[38;5;132;01m}\u001b[39;00m\u001b[38;5;124m'\u001b[39m)\n",
      "\u001b[0;31mNameError\u001b[0m: name 'task1' is not defined"
     ]
    }
   ],
   "source": [
    "r = 86874147988086870772\n",
    "n = r**2\n",
    "u = task1.unsafe_floor_sqrt(n)\n",
    "\n",
    "print(f'Exact root:    {r}')\n",
    "print(f'Computed root: {u}')\n",
    "print(f'Error: {abs(r - u)}')"
   ]
  },
  {
   "cell_type": "markdown",
   "id": "a41c59f3",
   "metadata": {},
   "source": [
    "Note that the problem comes from the operations in `unsafe_floor_sqrt()`, which has to use floating-point numbers, subject to round-off error. In Python, we can store integers as large as we want, and operate on them without risking numerical error -- as long as we perform integer operations. This is why `r**2` can be trusted to be accurate: it doesn't need any intermediate floating-point values.\n",
    "\n",
    "Before we go further, it will be quite useful to be able to generate random integers of different sizes. This will allow you to test your code with diferent inputs."
   ]
  },
  {
   "cell_type": "markdown",
   "id": "74729908",
   "metadata": {},
   "source": [
    "---\n",
    "#### 🚩 Task 1b [2 marks]\n",
    "\n",
    "Write a Python function called `random_number()`, which takes 1 input argument:\n",
    "\n",
    "- `digits`, an `int` representing a number of digits,\n",
    "\n",
    "and returns a random non-negative integer with exactly `digits` number of decimal digits (drawn from a uniform distribution of all possibilities)."
   ]
  },
  {
   "cell_type": "code",
   "execution_count": null,
   "id": "79cdbd3e",
   "metadata": {},
   "outputs": [],
   "source": [
    "# Testing (check that the output is sensible)\n",
    "importlib.reload(task1);\n",
    "print(task1.random_number(1))\n",
    "print(task1.random_number(8))\n",
    "print([task1.random_number(4) for i in range(5)])\n",
    "print(task1.random_number(500))"
   ]
  },
  {
   "cell_type": "markdown",
   "id": "2cf8dc27",
   "metadata": {},
   "source": [
    "---\n",
    "#### 🚩 Task 1c [3 marks]\n",
    "\n",
    "Write a function called `unsafe_failure_rate()`, which determines an approximate failure rate for the `unsafe_floor_sqrt(n)` function, depending on the number of digits of `n`. Your function should take 2 input arguments:\n",
    "\n",
    "- `number_sizes`, a list of different numbers sizes to test (as numbers of digits),\n",
    "- `samples`, an `int` representing how many random numbers of each size you will test, with a default value `samples=500`.\n",
    "\n",
    "For a given number of digits, your function should use `check_floor_root()` for each random number you test, in order to determine the frequency at which `unsafe_floor_sqrt()` gives the wrong result. Your function should return a list `frequencies` of the same length as `number_sizes`, containing the failure rates of `unsafe_floor_sqrt()` (as a number between 0 and 1) for each respective number of digits.\n",
    "\n",
    "For example, if you want to test `unsafe_floor_sqrt()` on 1-, 2-, and 3-digit numbers, using 50 random numbers of each size, you would do:\n",
    "\n",
    "    In [1]: task1.unsafe_failure_rate([1, 2, 3], samples=50)\n",
    "    Out[1]: [0.0, 0.0, 0.0]\n",
    "    \n",
    "Of course, the function never fails in this example because the numbers are small. In this case, we can use fewer `samples` than the default. \n",
    "\n",
    "Likewise, we can try with 50-digit numbers (and the default 500 `samples`),\n",
    "\n",
    "    In [2]: task1.unsafe_failure_rate([50])\n",
    "    Out[2]: [1.0]\n",
    "    \n",
    "In this case, the function always gets the wrong answer. (Somewhere in the middle, the answers are more interesting!)"
   ]
  },
  {
   "cell_type": "code",
   "execution_count": null,
   "id": "54acc4c9",
   "metadata": {},
   "outputs": [],
   "source": [
    "# Testing\n",
    "importlib.reload(task1);\n",
    "assert task1.unsafe_failure_rate([1, 2, 3], samples=50) == [0., 0., 0.]\n",
    "assert task1.unsafe_failure_rate([50]) == [1.]\n",
    "print('All tests pass.')"
   ]
  },
  {
   "cell_type": "markdown",
   "id": "45268a47",
   "metadata": {},
   "source": [
    "---\n",
    "#### 🚩 Task 1d [3 marks]\n",
    "\n",
    "Using your `unsafe_failure_rate()` function from Task 1c, plot the failure rate of `unsafe_floor_sqrt(n)` as a function of the number of digits of `n`.\n",
    "\n",
    "You should test and plot your results for different number sizes, in a way which clearly shows the transition from the computed root being always correct, to always wrong. Your plot must be presented in a clear and understandable manner.\n",
    "\n",
    "Explain the results you observe in the plot, whether this corresponds to what you expected, and why/why not.\n",
    "\n",
    "_Write your code for this question in the code cell below. Do not re-define any functions in the notebook; use your `task1` module._\n",
    "\n",
    "_Write your comments and explanations in the Markdown cell below._"
   ]
  },
  {
   "cell_type": "code",
   "execution_count": null,
   "id": "42b90748",
   "metadata": {},
   "outputs": [],
   "source": [
    "# Code for Task 1d\n",
    "importlib.reload(task1);\n",
    "\n"
   ]
  },
  {
   "cell_type": "markdown",
   "id": "ef485dc0",
   "metadata": {},
   "source": [
    "📝 _Write your comments and explanations for Task 1d here._"
   ]
  },
  {
   "cell_type": "markdown",
   "id": "8b3734a8",
   "metadata": {},
   "source": [
    "---\n",
    "### Floor root\n",
    "\n",
    "You can compute the floor square root of an integer without resorting to floating-point calculations. You only need to keep track of your arithmetic carefully, and make use of the following result:\n",
    "\n",
    "#### 🚩 Task 1e [1 mark]\n",
    "\n",
    "Let $k \\in \\mathbb{N}$. Show that the floor square root of a $k$-digit number $n$ has $\\frac{k}{2}$ digits if $k$ is even, and $\\frac{k+1}{2}$ digits if $k$ is odd."
   ]
  },
  {
   "cell_type": "markdown",
   "id": "c01db742",
   "metadata": {},
   "source": [
    "📝 _Write your proof for Task 1e here._"
   ]
  },
  {
   "cell_type": "markdown",
   "id": "e56100d8",
   "metadata": {},
   "source": [
    "---\n",
    "### The algorithm\n",
    "\n",
    "Suppose you have a 4-digit number with decimal digits $a,b,c,d$:\n",
    "\n",
    "$$\n",
    "n = abcd \\ = \\ 10^2 \\cdot ab  + cd,\n",
    "$$\n",
    "\n",
    "where $\\cdot$ denotes multiplication. Let $r$, a 2-digit number with digits $e,f$ be the floor square root of $n$, that is\n",
    "\n",
    "$$\n",
    "r = ef = 10\\cdot e + f \\quad \\text{such that} \\quad r^2 \\leq n < (r+1)^2.\n",
    "\\qquad \\qquad (1)\n",
    "$$\n",
    "\n",
    "We have\n",
    "\n",
    "$$\n",
    "\\frac{r^2}{10^2} = \\left(\\frac{r}{10}\\right)^2 = \\left(e + \\frac{f}{10}\\right)^2 \\geq e^2\n",
    "\\quad \\text{and} \\quad\n",
    "\\frac{(r+1)^2}{10^2} = \\left(e + \\frac{f+1}{10}\\right)^2 \\leq \\left(e + 1\\right)^2\n",
    "\\quad \\text{since } 0 \\leq f \\leq 9.\n",
    "$$\n",
    "\n",
    "Therefore, dividing $(1)$ by $10^2$ then taking the $\\text{floor}$ of the result leads to\n",
    "\n",
    "$$\n",
    "e^2 \\leq n\\ //\\ 10^2 = ab < (e+1)^2,\n",
    "$$\n",
    "\n",
    "where $//$ indicates floor division. This is to say that\n",
    "\n",
    "$$\n",
    "e = \\text{floor_sqrt}(ab).\n",
    "$$\n",
    "\n",
    "The algorithm works as follows:\n",
    "\n",
    "- Compute $ab = n\\ //\\ 10^2$.\n",
    "- The value of $e$ can be found by simply testing integers from 0 to 9, to find the largest integer $e$ such that $e^2 \\leq ab$.\n",
    "- Then, the second digit $f$ can be determined similarly, by testing integers from 0 to 9 to find the largest integer $f$ such that $(10\\cdot e + f)^2 \\leq abcd$.\n",
    "- If we had a number with more digits, we would keep going the same way.\n",
    "\n",
    "Here is an example with 5 digits. Suppose we start with $n=54321$. We need to take digits 2 at a time. So this is actually a 6-digit number for the purposes of our method (with a leading zero). We are therefore expecting a 3-digit floor square root. For the first digit:\n",
    "\n",
    "$$\n",
    "5 = 54321\\, // \\, 10^{4},\n",
    "$$\n",
    "\n",
    "and\n",
    "\n",
    "$$\n",
    "2^{2} \\ \\le \\ 5 \\ < \\ (2+1)^{2},\n",
    "$$\n",
    "\n",
    "so the first digit is $2$. In other words, our current (rough!) approximation is $200$. Next,\n",
    "\n",
    "$$\n",
    "543 = 54321\\, // \\, 10^{2},\n",
    "$$\n",
    "\n",
    "and\n",
    "\n",
    "$$\n",
    "(20 + 3)^{2} \\ \\le \\ 543 \\ < \\ (20 + 4)^{2},\n",
    "$$\n",
    "\n",
    "so the second digit is $3$. We have refined our approximation to $230$. Finally,\n",
    "\n",
    "$$\n",
    "(230 + 3)^{2} \\ \\le \\ 54321 \\ < \\ (230 + 4)^{2},\n",
    "$$\n",
    "\n",
    "so the third digit is $3$. The floor square root is therefore\n",
    "\n",
    "$$\n",
    "233 = \\text{floor_root}(54321).\n",
    "$$"
   ]
  },
  {
   "cell_type": "markdown",
   "id": "a1704c40",
   "metadata": {},
   "source": [
    "---\n",
    "#### 🚩 Task 1f [4 marks]\n",
    "\n",
    "Write a function called `floor_square_root()` which takes 1 input argument, a positive integer `number` (`int`), and returns the floor square root of `number`, as an `int`, using the algorithm described above.\n",
    "\n",
    "The function should work almost instantaneously on huge numbers; you should easily be able to compute the floor roots of numbers with 1000s of decimal digits."
   ]
  },
  {
   "cell_type": "code",
   "execution_count": null,
   "id": "2a280138",
   "metadata": {
    "scrolled": true
   },
   "outputs": [],
   "source": [
    "# Testing with different number sizes\n",
    "importlib.reload(task1);\n",
    "for digits in [5, 10, 15]:\n",
    "    n = task1.random_number(digits)\n",
    "    r = task1.floor_square_root(n)\n",
    "    assert task1.check_floor_root(n, r)\n",
    "print('All tests passed.')"
   ]
  },
  {
   "cell_type": "markdown",
   "id": "6ac2f42b",
   "metadata": {},
   "source": [
    "---\n",
    "#### 🚩 Task 1g [2 marks]\n",
    "\n",
    "Generalise the algorithm to find the $p$th floor root. Write a function called `floor_root()` which takes 2 input arguments:\n",
    "\n",
    "- a positive integer `number` (`int`),\n",
    "- a non-negative integer `power` (`int`), with a default value `power=2`, representing $p$,\n",
    "\n",
    "and returns the $p$th floor root of `number`, as an `int`, using your generalised algorithm."
   ]
  },
  {
   "cell_type": "code",
   "execution_count": null,
   "id": "a24657d8",
   "metadata": {},
   "outputs": [],
   "source": [
    "# Testing with different number sizes\n",
    "importlib.reload(task1);\n",
    "for digits in [5, 10, 15]:\n",
    "    n = task1.random_number(digits)\n",
    "    # Testing with different powers\n",
    "    for p in [2, 3, 4]:\n",
    "        r = task1.floor_root(n, power=p)\n",
    "        assert task1.check_floor_root(n, r, power=p)\n",
    "print('All tests passed.')"
   ]
  },
  {
   "cell_type": "markdown",
   "id": "6edb40df",
   "metadata": {},
   "source": [
    "---\n",
    "## Task 2: Reckoning WidGets [10 marks]\n",
    "\n",
    "You work for a company (WidGet LLC) that makes widgets. \n",
    "\n",
    "* You only have three types of raw materials: `'RED'`, `'YELLOW'`, `'BLUE'`.\n",
    "\n",
    "* All widgets are stored in a `list`.\n",
    "\n",
    "* Out of the raw materials, you have three primary widgets:\n",
    "    \n",
    "    ```python\n",
    "    red    = ['RED']\n",
    "    yellow = ['YELLOW']\n",
    "    blue   = ['BLUE']\n",
    "    ```\n",
    "\n",
    "* You can make widgets with arbitrary complexity by combining simpler widgets. For example:\n",
    "\n",
    "    ```python\n",
    "    print([2*red, blue])\n",
    "    ```\n",
    "    ```\n",
    "    [['RED', 'RED'], ['BLUE']]\n",
    "    ```\n",
    "\n",
    "* But you have a few *designer* widgets that have names: \n",
    "\n",
    "    ```python\n",
    "    purple  = [red, blue]\n",
    "    green   = [yellow, blue]\n",
    "    orange  = [red, yellow]\n",
    "    white   = [3*red, 3*orange, 3*yellow, 3*green, 4*blue, 2*purple]\n",
    "    pink    = [white, red]\n",
    "    black   = [pink, purple]\n",
    "    grey    = [black, white]\n",
    "    joker   = [purple, green]\n",
    "    sulphur = [white, yellow]\n",
    "    galah   = [pink, grey]\n",
    "    flock   = [sulphur, galah]\n",
    "    ```\n",
    "        \n",
    "* But your company might want completely new designer widgets next season. You never know what will be in style. These above examples are just a few that some intern came up with -- they are not official -- but we might want to price these or any other combinations. \n",
    "\n",
    "\n",
    "* The price of the raw materials tends to change over time. \n",
    "\n",
    "\n",
    "* WidGet LLC needs to be able to compute the cost of **any *arbitrary* combination of widgets** for any prices of the raw materials; it's in the company's bylaws.\n",
    "\n",
    "\n",
    "* The price of any combination is the **sum** of the prices of the components.  \n",
    "\n",
    "---\n",
    "#### 🚩 Task 2a [4 marks]\n",
    "\n",
    "Write a function called `price()`, which takes 4 input arguments:\n",
    "\n",
    "- `widget`, a list (possibly nested) representing a given widget,\n",
    "- three non-negative numbers `r`, `y`, `b`, representing respectively the prices of the `'RED'`, `'YELLOW'`, and `'BLUE'` raw materials, given in £ (GBP),\n",
    "\n",
    "and returns the price of any `widget` given any prices of the raw materials, `r`, `y`, `b`. Your function should return the price of the `widget` rounded to the nearest £0.01.\n",
    "\n",
    "***HINTS:*** There are two efficient ways to solve this task. They involve either tallying each layer's prices in terms of the lower layers (breadth first), or go to the bottom of a given widget before doing the others (depth first). The depth-first method is very simple with *recursion* (see e.g. the Week 4 or Week 5 workshop tasks for examples of recursive functions).\n",
    "\n",
    "\n",
    "***DO NOT*** attempt to hardcode any of the above `widgets` in your function definition. You need to be able to compute the price for *any* composite `widget`. Someone may place an order of (e.g.),\n",
    "    \n",
    "```python\n",
    "my_order = [sulphur, joker, red, red, red, flock]\n",
    "```\n",
    "\n",
    "This is a highly composite widget -- for instance, the `flock` widget contains five layers of made-up widgets.\n"
   ]
  },
  {
   "cell_type": "code",
   "execution_count": null,
   "id": "6dfbb898",
   "metadata": {},
   "outputs": [],
   "source": [
    "# Testing\n",
    "red    = ['RED']\n",
    "yellow = ['YELLOW']\n",
    "blue   = ['BLUE']\n",
    "purple = [red, blue]\n",
    "green  = [yellow, blue]\n",
    "joker  = [purple, green]\n",
    "\n",
    "importlib.reload(task2);\n",
    "assert task2.price(blue, 1, 2, 3) == 3\n",
    "assert task2.price(2*blue, 1, 2, 3) == 6\n",
    "assert task2.price(purple, 5.5, 2, 4.5) == 10\n",
    "assert task2.price(joker, 2, 4, 3) == 12\n",
    "print('All tests passed.')"
   ]
  },
  {
   "cell_type": "markdown",
   "id": "2944dbd4",
   "metadata": {},
   "source": [
    "---\n",
    "#### 🚩 Task 2b [2 marks]\n",
    "\n",
    "Write a function called `constituents()`, which takes a `widget` as an input, and determines the number of each primary widget (`red`, `yellow`, `blue`) in the given `widget`.\n",
    "\n",
    "Your function should return a `list` `[nr, ny, nb]`, containing the respective number of `red`, `yellow`, and `blue` widgets."
   ]
  },
  {
   "cell_type": "code",
   "execution_count": null,
   "id": "ea9f9e12",
   "metadata": {},
   "outputs": [],
   "source": [
    "# Testing\n",
    "importlib.reload(task2);\n",
    "assert task2.constituents(blue) == [0, 0, 1]\n",
    "assert task2.constituents(2*blue) == [0, 0, 2]\n",
    "assert task2.constituents(purple) == [1, 0, 1]\n",
    "assert task2.constituents(joker) == [1, 1, 2]\n",
    "print('All tests passed.')"
   ]
  },
  {
   "cell_type": "markdown",
   "id": "bb8c672e",
   "metadata": {},
   "source": [
    "---\n",
    "### Oh, Nooooo!\n",
    "\n",
    "A *absolute disaster* has happened. Your coworker computed the prices for several orders yesterday. They used a set of raw-material prices, but somehow those got lost in a computer crash. All that's left are the totals for the orders. You need to reconstruct yesterday's raw-material prices for the accounting department. Everyone will panic if you don't; they are already panicking. Emails are piling up! \n",
    "\n",
    "Here's what we know about the situation:\n",
    "\n",
    "* There are a few common designer widgets that the company is using this season: \n",
    "\n",
    "    ```python\n",
    "    orange = 2*red + 4*yellow\n",
    "    purple = 5*red + 4*blue\n",
    "    brown  = 4*red + 7*yellow + 18*blue\n",
    "    ```\n",
    "\n",
    "* The customer orders were:\n",
    "\n",
    "    ```python\n",
    "    monday = 4*orange + 7*purple + 10*brown\n",
    "    zeta   = 5*orange + 10*purple + 8*brown\n",
    "    party  = 9*orange + 3*purple\n",
    "    ```\n",
    "        \n",
    "* Fortunately, you have the prices saved:\n",
    "\n",
    "        In [1]: price(monday, r, y, b)\n",
    "        Out[1]: 2087\n",
    "        \n",
    "        In [2]: price(zeta, r, y, b)\n",
    "        Out[2]: 1976\n",
    "        \n",
    "        In [3]: price(party, r, y, b)\n",
    "        Out[3]: 411\n",
    "        \n",
    "        \n",
    "* Unfortunately, you've also lost the prices of the `orange`, `purple` and `brown` designer widgets.\n",
    "\n",
    "---\n",
    "#### 🚩 Task 2c [4 marks]\n",
    "\n",
    "Write a function that can solve this problem, i.e. compute `r`, `y`, and `b` from a given list of orders and corresponding total prices. It happens that this isn't the first time this has occurred at the company. It will probably happen again. We want to make a function that will work on different numbers of widgets and orders.\n",
    "\n",
    "* You talked to someone in IT, and they are only able to get you the data in the following format:\n",
    "\n",
    "        orders = [monday, zeta, party]\n",
    "        totals = [2087, 1976, 411]\n",
    "        \n",
    "    where list entries are defined above.\n",
    "    \n",
    "\n",
    "* Your function should take 2 input arguments, `orders` and `totals`, where `orders` is a list of arbitrary widgets (one order is essentially the same as one composite widget), and `totals` is a list of the total prices for each order.\n",
    "\n",
    "\n",
    "* Your function should return a list of 3 numbers `[r, y, b]`, representing the respective prices of each raw material. Because of outdated computer systems, you absolutely need to return the prices rounded to the nearest £0.01.\n",
    "\n",
    "\n",
    "* Partial marks will be given for solutions which assume that there will always be exactly 3 independent orders available in the data. For full marks, your function should also handle the case where data for more than 3 orders is available.\n",
    "\n",
    "    You can assume that, in all cases, any given set of orders will consist of at least 3 linearly independent combinations of the raw materials. For instance, this would be a valid order:\n",
    "  \n",
    "    ```python\n",
    "    orders = [monday, zeta, monday + 2*zeta, party]\n",
    "    totals = [631.18, 604.64, 1840.46, 169.02]\n",
    "    ```"
   ]
  },
  {
   "cell_type": "code",
   "execution_count": null,
   "id": "82b0fb86",
   "metadata": {},
   "outputs": [],
   "source": [
    "# Testing\n",
    "importlib.reload(task2);\n",
    "\n",
    "orange = 2*red + 4*yellow\n",
    "purple = 5*red + 4*blue\n",
    "brown  = 4*red + 7*yellow + 18*blue\n",
    "\n",
    "monday = 4*orange + 7*purple + 10*brown\n",
    "zeta   = 5*orange + 10*purple + 8*brown\n",
    "party  = 9*orange + 3*purple\n",
    "\n",
    "assert task2.reconstruct_prices([monday, zeta, party], [2087, 1976, 411]) == [7, 3, 6]\n",
    "assert task2.reconstruct_prices([monday, zeta, monday + 2*zeta, party],\n",
    "                                [631.18, 604.64, 1840.46, 169.02]) == [2.5, 2, 1.21]\n",
    "print('All tests passed.')"
   ]
  },
  {
   "cell_type": "markdown",
   "id": "671bfa09",
   "metadata": {},
   "source": [
    "---\n",
    "## Task 3: Efficient numerical integration [9 marks]\n",
    "\n",
    "When you numerically integrate functions in serious applications, almost all cost considerations boil down to the number of *function evaluations* -- the number of points at which you have to compute $f(x)$.\n",
    "\n",
    "Evaluating a function isn't a big problem for the simple examples you encounter in a numerical methods course. But in the real world, your function could be a very complex thing -- for example, _the total approximate probability that the Great Barrier Reef will die in the next 20 years as a function of the number of a certain type of fish per square kilometre_.\n",
    "\n",
    "Simply \"evaluating\" this function once might involve a costly and time-consuming field campaign to count fish. After finding the number, you might plug the data into a simple mathematical model that computes an integral for the answer.\n",
    "\n",
    "In general, for each specific problem, we want to use a method that is perfectly tuned to give accurate answers without going back and doing more \"function evaluations\" (fish counting).\n",
    "\n",
    "We are going to consider numerical integration through the lens of function evaluations, but on a much simpler problem. To do this, we need a good way to count function evaluations. \n",
    "\n",
    "There is a very powerful Python concept called *decorators*. They are functions you can define to add more features to another, existing function.\n",
    "\n",
    "How decorators work won't be covered in this course, but if you'd like to learn more, [this is quite a good explanation](https://realpython.com/primer-on-python-decorators/). The important thing is that the `counter()` decorator in `task3` can be used to count the number of function evaluations."
   ]
  },
  {
   "cell_type": "markdown",
   "id": "aba8dc11",
   "metadata": {},
   "source": [
    "Next, we will use a model function that depends on a parameter.\n",
    "\n",
    "$$\n",
    "K_{a}(x) \\ = \\ \\frac{1}{\\sqrt{\\,a-\\cos(x)}}, \\qquad \\text{for}\\qquad x \\, \\in \\, [-\\pi,\\pi],\n",
    "$$\n",
    "\n",
    "where the real-valued parameter $a > 1$.\n",
    "\n",
    "The function `define_Ka()` in `task3` takes an `a` parameter, and returns ***another function ready to be evaluated*** at any given $x$. We've also used our decorator `counter()`, so that we can track the number of times our new function `Ka()` will be evaluated.\n",
    "\n",
    "Let's try it out by making an array between $-\\pi,\\pi$ with 10 grid points. "
   ]
  },
  {
   "cell_type": "code",
   "execution_count": null,
   "id": "a620b277",
   "metadata": {},
   "outputs": [],
   "source": [
    "import numpy as np\n",
    "import matplotlib.pyplot as plt\n",
    "importlib.reload(task3);\n",
    "\n",
    "# Create our function Ka(x) with a=3\n",
    "K3 = task3.define_Ka(3)\n",
    "\n",
    "# Create an x-axis with 100 points between -pi and pi\n",
    "n = 100\n",
    "x = np.linspace(-np.pi, np.pi, n)\n",
    "\n",
    "# Use our new function K3()\n",
    "y = K3(x)\n",
    "\n",
    "# Plot the function\n",
    "fig, ax = plt.subplots()\n",
    "ax.plot(x, y)\n",
    "ax.set(xlabel=r'$x$', ylabel=r'$K_3(x)$')\n",
    "plt.show()"
   ]
  },
  {
   "cell_type": "markdown",
   "id": "1c6938ee",
   "metadata": {},
   "source": [
    "Thanks to our decorator, we can see how many times `K3` has been evaluated so far:"
   ]
  },
  {
   "cell_type": "code",
   "execution_count": null,
   "id": "8035bf68",
   "metadata": {},
   "outputs": [],
   "source": [
    "print(K3.evals)"
   ]
  },
  {
   "cell_type": "markdown",
   "id": "bb427ef9",
   "metadata": {},
   "source": [
    "This is 100 times, because `y = K3(x)` evaluated the function at 100 different points. Now we can evaluate it once more, and check again:"
   ]
  },
  {
   "cell_type": "code",
   "execution_count": null,
   "id": "70a00047",
   "metadata": {},
   "outputs": [],
   "source": [
    "# One more point\n",
    "z = K3(2)\n",
    "\n",
    "# Check the number of evaluations\n",
    "print(K3.evals)"
   ]
  },
  {
   "cell_type": "markdown",
   "id": "4aa23a90",
   "metadata": {},
   "source": [
    "As expected, calculating `K3(2)` increased `K3.evals` by 1.\n",
    "\n",
    "---\n",
    "#### 🚩 Task 3 [9 marks]\n",
    "\n",
    "Write a function (in `task3`) called `Kintegral()` that numerically evaluates \n",
    "\n",
    "$$\n",
    "\\mathcal{I}(K_a) \\ = \\ \\int_{-\\pi}^{\\pi} K_a(x) \\, \\text{d} x.\n",
    "$$\n",
    "\n",
    "Your function should take 2 input arguments:\n",
    "\n",
    "- a **function** `Ka`, of the same kind as `K3` above,\n",
    "- a positive integer `n`, an `int`, which represents your \"evaluation budget\",\n",
    "\n",
    "and return a numerical approximation of the integral defined above, with **as little error as possible**, using **exactly** `n` evaluations of `Ka()`.\n",
    "\n",
    "You can display `Ka.evals` after computing the integral, to make sure that you evaluate $K_a(x)$ exactly `n` times. For example, your code should give the following output:\n",
    "\n",
    "        In [1]: K3 = define_Ka(3)\n",
    "        In [2]: n = 20\n",
    "        In [3]: Kintegral(K3, n);\n",
    "        In [4]: print(K3.evals)\n",
    "                20\n",
    "\n",
    "This example doesn't indicate whether `n = 20` is a good or insufficient number of evaluations, nor does it say what the error, in this case, would be. Instead, this example is only to show you how the system should behave so that you can test your code and ensure it's working correctly.\n",
    "\n",
    "You will need to use a composite numerical integration method (see Weeks 5 and 6). In any case, you should justify your choice of method, either with an analytical argument or a numerical demonstration.\n",
    "\n",
    "***HINTS:***\n",
    "\n",
    "- You could start by writing functions which implement different composite methods. The code you have from Weeks 5 and 6 is a good starting point, but will need some work in order to avoid e.g. evaluating the function twice at the same node unnecessarily.\n",
    "\n",
    "- You can obtain a \"ground truth\" value of the integral by using an appropriate numerical integration method with sufficiently many nodes. This will be useful to evaluate the error of different methods."
   ]
  },
  {
   "cell_type": "code",
   "execution_count": null,
   "id": "58f53f1b",
   "metadata": {},
   "outputs": [],
   "source": [
    "# Testing (this only tests that you use the correct number of function evaluations)\n",
    "importlib.reload(task3);\n",
    "import numpy as np\n",
    "\n",
    "# Testing with a random value of a and n\n",
    "a = 1 + 3*np.random.random()\n",
    "Ka = task3.define_Ka(a)\n",
    "n = np.random.randint(2, 51)\n",
    "\n",
    "# Call the function twice\n",
    "task3.Kintegral(Ka, n);\n",
    "assert Ka.evals == n\n",
    "task3.Kintegral(Ka, n);\n",
    "assert Ka.evals == 2*n"
   ]
  },
  {
   "cell_type": "code",
   "execution_count": null,
   "id": "052f391d",
   "metadata": {},
   "outputs": [],
   "source": [
    "# You may use this code cell for any code which will help your argument/demonstration.\n"
   ]
  },
  {
   "cell_type": "markdown",
   "id": "2b24ee42",
   "metadata": {},
   "source": [
    "📝 _You can use this Markdown cell for any working and/or explanations which will help your argument/demonstration._"
   ]
  }
 ],
 "metadata": {
  "kernelspec": {
   "display_name": "Python 3 (ipykernel)",
   "language": "python",
   "name": "python3"
  },
  "language_info": {
   "codemirror_mode": {
    "name": "ipython",
    "version": 3
   },
   "file_extension": ".py",
   "mimetype": "text/x-python",
   "name": "python",
   "nbconvert_exporter": "python",
   "pygments_lexer": "ipython3",
   "version": "3.11.2"
  }
 },
 "nbformat": 4,
 "nbformat_minor": 5
}
